{
 "cells": [
  {
   "cell_type": "code",
   "execution_count": 42,
   "metadata": {},
   "outputs": [],
   "source": [
    "import numpy as np\n",
    "import pandas as pd\n",
    "import scipy.stats as stats\n",
    "from scipy.stats import ttest_ind\n",
    "import seaborn as sns"
   ]
  },
  {
   "cell_type": "markdown",
   "metadata": {},
   "source": [
    "https://mipt-stats.gitlab.io/courses/python/07_scipy_stats.html"
   ]
  },
  {
   "cell_type": "code",
   "execution_count": 3,
   "metadata": {},
   "outputs": [
    {
     "data": {
      "text/plain": [
       "'Оцениваем ошибку первого рода.\\n\\n   Бутстрепим выборки из пилотной и контрольной групп тех же размеров, считаем долю случаев с значимыми отличиями.\\n   \\n   df_pilot_group - pd.DataFrame, датафрейм с данными пилотной группы\\n   df_control_group - pd.DataFrame, датафрейм с данными контрольной группы\\n   metric_name - str, названия столбца с метрикой\\n   alpha - float, уровень значимости для статтеста\\n   n_iter - int, кол-во итераций бутстрапа\\n   seed - int or None, состояние генератора случайных чисел.\\n\\n   return - float, ошибка первого рода'"
      ]
     },
     "execution_count": 3,
     "metadata": {},
     "output_type": "execute_result"
    }
   ],
   "source": [
    " \"\"\"Оцениваем ошибку первого рода.\n",
    "\n",
    "    Бутстрепим выборки из пилотной и контрольной групп тех же размеров, считаем долю случаев с значимыми отличиями.\n",
    "    \n",
    "    df_pilot_group - pd.DataFrame, датафрейм с данными пилотной группы\n",
    "    df_control_group - pd.DataFrame, датафрейм с данными контрольной группы\n",
    "    metric_name - str, названия столбца с метрикой\n",
    "    alpha - float, уровень значимости для статтеста\n",
    "    n_iter - int, кол-во итераций бутстрапа\n",
    "    seed - int or None, состояние генератора случайных чисел.\n",
    "\n",
    "    return - float, ошибка первого рода\"\"\""
   ]
  },
  {
   "cell_type": "code",
   "execution_count": 70,
   "metadata": {},
   "outputs": [],
   "source": [
    "a = np.random.normal(0, 1, 10)\n",
    "b = np.random.normal(0.3, 1, 10)"
   ]
  },
  {
   "cell_type": "code",
   "execution_count": 71,
   "metadata": {},
   "outputs": [],
   "source": [
    "a = pd.DataFrame(a)\n",
    "b = pd.DataFrame(b)"
   ]
  },
  {
   "cell_type": "markdown",
   "metadata": {},
   "source": [
    "сгенерить датафреймы \n",
    "найти интервал - три вида статистики \n",
    "посчитать случаи, когда > alpha\n",
    "оценить вероятность ошибки первого и второго рода "
   ]
  },
  {
   "cell_type": "code",
   "execution_count": 73,
   "metadata": {},
   "outputs": [],
   "source": [
    "def estimate_first_type_error(df_pilot_group, df_control_group, name = str, alpha=0.05, n_iter=1000, seed=None):\n",
    "    \n",
    "    def check_ttest(a, b, alpha=alpha):\n",
    "        \"\"\"Тест Стьюдента. Возвращает 1, если отличия значимы.\"\"\"\n",
    "        _, pvalue = stats.ttest_ind(a, b)\n",
    "        return int(pvalue < alpha)\n",
    "    \n",
    "\n",
    "    def check_mannwhitneyu(a, b, alpha=alpha):\n",
    "        \"\"\"Тест Манн-Уитни. Возвращает 1, если отличия значимы.\"\"\"\n",
    "        _, pvalue = stats.mannwhitneyu(a, b, alternative='two-sided')\n",
    "        return int(pvalue < alpha)\n",
    "\n",
    "\n",
    "    def check_bootstrap(a, b, func=np.mean, B=n_iter, alpha=alpha):\n",
    "        \"\"\"Бутстрап. Возвращает 1, если отличия значимы.\"\"\"\n",
    "        #переведем датафрем в series\n",
    "        a= a.iloc[:, 0] \n",
    "        b = b.iloc[:, 0] \n",
    "        # если попадает внутрь довертельного интервала, то возвращает 0 и различия не значимы и наоборот \n",
    "        a_bootstrap = np.random.choice(a, size=(len(a), B))\n",
    "        b_bootstrap = np.random.choice(b, size=(len(b), B))\n",
    "        list_diff = func(a_bootstrap, axis=0) - func(b_bootstrap, axis=0)\n",
    "        left_bound = np.quantile(list_diff, alpha / 2)\n",
    "        right_bound = np.quantile(list_diff, 1 - alpha / 2)\n",
    "        res = 1 if (left_bound > 0) or (right_bound < 0) else 0\n",
    "        return res\n",
    "\n",
    "\n",
    "    dict_tests = {\n",
    "        'ttest': check_ttest,\n",
    "        'mannwhitneyu': check_mannwhitneyu,\n",
    "        'bootstrap': check_bootstrap}\n",
    "    \n",
    "    first_type_errors = []\n",
    "    second_type_errors = []\n",
    "    sample_size = 0.5\n",
    "    ab_results = [] #складываем результаты аb тестов \n",
    "    \n",
    "    for _ in range(n_iter):\n",
    "        a =  df_control_group.sample(frac=sample_size)\n",
    "        b = df_pilot_group.sample(frac=sample_size)\n",
    "        test_yes_no = dict_tests[name](a, b)\n",
    "        ab_results.append(test_yes_no)\n",
    "\n",
    "    first_type_errors.append(sum(ab_results)/len(ab_results))\n",
    "    second_type_errors.append(1 - sum(ab_results)/len(ab_results))\n",
    "\n",
    "    return first_type_errors, second_type_errors"
   ]
  },
  {
   "cell_type": "code",
   "execution_count": 75,
   "metadata": {},
   "outputs": [
    {
     "data": {
      "text/plain": [
       "([0.029], [0.971])"
      ]
     },
     "execution_count": 75,
     "metadata": {},
     "output_type": "execute_result"
    }
   ],
   "source": [
    "estimate_first_type_error(a, b, name = 'ttest', alpha=0.05, n_iter=1000, seed=None)"
   ]
  }
 ],
 "metadata": {
  "kernelspec": {
   "display_name": "Python 3",
   "language": "python",
   "name": "python3"
  },
  "language_info": {
   "codemirror_mode": {
    "name": "ipython",
    "version": 3
   },
   "file_extension": ".py",
   "mimetype": "text/x-python",
   "name": "python",
   "nbconvert_exporter": "python",
   "pygments_lexer": "ipython3",
   "version": "3.7.6"
  }
 },
 "nbformat": 4,
 "nbformat_minor": 4
}
